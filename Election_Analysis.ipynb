{
 "cells": [
  {
   "cell_type": "code",
   "execution_count": null,
   "metadata": {},
   "outputs": [],
   "source": [
    "import csv\n",
    "import os\n",
    "\n",
    "# Assign a variable for the file to load and the path.\n",
    "election_file = 'c:\\\\Users\\\\Blaine\\\\Documents\\\\College\\\\Bootcamp\\\\Election_Analysis\\\\Resources\\\\election_results.csv'\n",
    "\n",
    "# Open the election results and read the file.\n",
    "with open(election_file, \"r\") as election_data:\n",
    "\n",
    "     # To do: rean and perform analysis.\n",
    "     #Read the file object with the reader function.\n",
    "     file_reader = csv.reader(election_data)\n",
    "\n",
    "     for row in file_reader:\n",
    "        print(row)\n",
    "\n",
    "        #with open(election_save, \"w\") as election_analysis:\n",
    "     #election_analysis.write(\"Counties in the Election\\n-------------------------\\nArapahoe\\nDenver\\nJeferson\")"
   ]
  },
  {
   "cell_type": "code",
   "execution_count": 20,
   "metadata": {},
   "outputs": [
    {
     "name": "stdout",
     "output_type": "stream",
     "text": [
      "{'Charles Casper Stockham': 85213, 'Diana DeGette': 272892, 'Raymon Anthony Doane': 11606}\n"
     ]
    }
   ],
   "source": [
    "# The data we need to retrieve\n",
    "# 1) The total number of votes cast\n",
    "# 2) A complete list of candidates who recieve votes\n",
    "# 3) The percentage of votes each candidate won\n",
    "# 4) The total number of votes each candidate won\n",
    "# 5) The winner of the election based on popular vote\n",
    "\n",
    "# Add our dependencies.\n",
    "import csv\n",
    "import os\n",
    "\n",
    "# Assign a variable for the file to load and the path.\n",
    "election_file = 'c:\\\\Users\\\\Blaine\\\\Documents\\\\College\\\\Bootcamp\\\\Election_Analysis\\\\Resources\\\\election_results.csv'\n",
    "election_save = 'c:\\\\Users\\\\Blaine\\\\Documents\\\\College\\\\Bootcamp\\\\Election_Analysis\\\\Resources\\\\election_analysis.txt'\n",
    "\n",
    "#Initialize a total vote counter.\n",
    "total_votes = 0\n",
    "\n",
    "#Candidate options.\n",
    "candidate_options = []\n",
    "\n",
    "#Candidate votes.\n",
    "candidate_votes = {}\n",
    "\n",
    "# Open the election results and read the file.\n",
    "with open(election_file) as election_data:\n",
    "    election_reader = csv.reader(election_data)\n",
    "\n",
    "#Read the header row.\n",
    "    headers = next(election_reader)\n",
    "\n",
    "#Print each row in the CSV file.\n",
    "    for row in election_reader:\n",
    "        total_votes += 1\n",
    "        \n",
    "# Print the candidate name from each row.\n",
    "        candidate_name = row[2]\n",
    "\n",
    "# Add the candidate name to the candidate list if not already added.\n",
    "        if candidate_name not in candidate_options:\n",
    "#Add to list of candidates\n",
    "            candidate_options.append(candidate_name)\n",
    "#Begin tracking candidate vote count\n",
    "            candidate_votes[candidate_name] = 0\n",
    "#Add vote to candidate's count\n",
    "        candidate_votes[candidate_name] += 1\n",
    "\n",
    "#Print candidate list\n",
    "print(candidate_votes)\n",
    "\n",
    "# Create a filename variable to a direct or indirect path to the file.\n",
    "#with open(election_save, \"w\") as txt_file:\n",
    "\n",
    "    # Write some data to the file.\n",
    "    #txt_file.write(\"Hello World\")"
   ]
  },
  {
   "cell_type": "code",
   "execution_count": 14,
   "metadata": {},
   "outputs": [
    {
     "name": "stdout",
     "output_type": "stream",
     "text": [
      "['Charles Casper Stockham', 'Diana DeGette', 'Raymon Anthony Doane']\n"
     ]
    }
   ],
   "source": [
    "# The data we need to retrieve\n",
    "# 1) The total number of votes cast\n",
    "# 2) A complete list of candidates who recieve votes\n",
    "# 3) The percentage of votes each candidate won\n",
    "# 4) The total number of votes each candidate won\n",
    "# 5) The winner of the election based on popular vote\n",
    "\n",
    "# Add our dependencies.\n",
    "import csv\n",
    "import os\n",
    "# Assign a variable to load a file from a path.\n",
    "file_to_load = os.path.join('c:\\\\Users\\\\Blaine\\\\Documents\\\\College\\\\Bootcamp\\\\Election_Analysis\\\\Resources\\\\election_results.csv')\n",
    "# Assign a variable to save the file to a path.\n",
    "file_to_save = os.path.join('c:\\\\Users\\\\Blaine\\\\Documents\\\\College\\\\Bootcamp\\\\Election_Analysis\\\\Resources\\\\election_analysis.txt')\n",
    "\n",
    "# Initialize a total vote counter.\n",
    "total_votes = 0\n",
    "\n",
    "# Candidate Options\n",
    "candidate_options = []\n",
    "\n",
    "# Open the election results and read the file.\n",
    "with open(file_to_load) as election_data:\n",
    "    file_reader = csv.reader(election_data)\n",
    "\n",
    "    # Read the header row.\n",
    "    headers = next(file_reader)\n",
    "\n",
    "    # Print each row in the CSV file.\n",
    "    for row in file_reader:\n",
    "        # Add to the total vote count.\n",
    "        total_votes += 1\n",
    "\n",
    "        # Print the candidate name from each row.\n",
    "        candidate_name = row[2]\n",
    "\n",
    "        # If the candidate does not match any existing candidate...\n",
    "        if candidate_name not in candidate_options:\n",
    "            # Add it to the list of candidates.\n",
    "            candidate_options.append(candidate_name)\n",
    "\n",
    "# Print the candidate list.\n",
    "print(candidate_options)"
   ]
  }
 ],
 "metadata": {
  "interpreter": {
   "hash": "6f7c4d44365b28014734406e4d617c1e1f76ea196def854c7b951a230f6e24f1"
  },
  "kernelspec": {
   "display_name": "Python 3.9.7 64-bit",
   "language": "python",
   "name": "python3"
  },
  "language_info": {
   "codemirror_mode": {
    "name": "ipython",
    "version": 3
   },
   "file_extension": ".py",
   "mimetype": "text/x-python",
   "name": "python",
   "nbconvert_exporter": "python",
   "pygments_lexer": "ipython3",
   "version": "3.9.7"
  },
  "orig_nbformat": 4
 },
 "nbformat": 4,
 "nbformat_minor": 2
}
