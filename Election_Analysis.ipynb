{
 "cells": [
  {
   "cell_type": "code",
   "execution_count": null,
   "metadata": {},
   "outputs": [],
   "source": [
    "import csv\n",
    "import os\n",
    "\n",
    "# Assign a variable for the file to load and the path.\n",
    "election_file = 'c:\\\\Users\\\\Blaine\\\\Documents\\\\College\\\\Bootcamp\\\\Election_Analysis\\\\Resources\\\\election_results.csv'\n",
    "\n",
    "# Open the election results and read the file.\n",
    "with open(election_file, \"r\") as election_data:\n",
    "\n",
    "     # To do: rean and perform analysis.\n",
    "     #Read the file object with the reader function.\n",
    "     file_reader = csv.reader(election_data)\n",
    "\n",
    "     for row in file_reader:\n",
    "        print(row)\n",
    "\n",
    "        #with open(election_save, \"w\") as election_analysis:\n",
    "     #election_analysis.write(\"Counties in the Election\\n-------------------------\\nArapahoe\\nDenver\\nJeferson\")"
   ]
  },
  {
   "cell_type": "code",
   "execution_count": 40,
   "metadata": {},
   "outputs": [
    {
     "name": "stdout",
     "output_type": "stream",
     "text": [
      "['Ballot ID', 'County', 'Candidate']\n"
     ]
    }
   ],
   "source": [
    "# The data we need to retrieve\n",
    "# 1) The total number of votes cast\n",
    "# 2) A complete list of candidates who recieve votes\n",
    "# 3) The percentage of votes each candidate won\n",
    "# 4) The total number of votes each candidate won\n",
    "# 5) The winner of the election based on popular vote\n",
    "\n",
    "# Add our dependencies.\n",
    "import csv\n",
    "import os\n",
    "\n",
    "# Assign a variable for the file to load and the path.\n",
    "election_file = 'c:\\\\Users\\\\Blaine\\\\Documents\\\\College\\\\Bootcamp\\\\Election_Analysis\\\\Resources\\\\election_results.csv'\n",
    "election_save = 'c:\\\\Users\\\\Blaine\\\\Documents\\\\College\\\\Bootcamp\\\\Election_Analysis\\\\Resources\\\\election_analysis.txt'\n",
    "\n",
    "# Open the election results and read the file.\n",
    "with open(election_file) as election_data:\n",
    "     election_reader = csv.reader(election_data)\n",
    "\n",
    "     headers = next(election_reader)\n",
    "     print(headers)\n",
    "\n",
    "# Create a filename variable to a direct or indirect path to the file.\n",
    "#with open(election_save, \"w\") as txt_file:\n",
    "\n",
    "    # Write some data to the file.\n",
    "    #txt_file.write(\"Hell no World\")"
   ]
  },
  {
   "cell_type": "code",
   "execution_count": 38,
   "metadata": {},
   "outputs": [],
   "source": [
    "# Add our dependencies.\n",
    "import csv\n",
    "import os\n",
    "# Assign a variable to load a file from a path.\n",
    "file_to_load = os.path.join('c:\\\\Users\\\\Blaine\\\\Documents\\\\College\\\\Bootcamp\\\\Election_Analysis\\\\Resources\\\\election_results.csv')\n",
    "# Assign a variable to save the file to a path.\n",
    "file_to_save = os.path.join('c:\\\\Users\\\\Blaine\\\\Documents\\\\College\\\\Bootcamp\\\\Election_Analysis\\\\Resources\\\\election_analysis.txt')\n",
    "\n",
    "# Open the election results and read the file.\n",
    "with open(file_to_load) as election_data:\n",
    "    file_reader = csv.reader(election_data)\n",
    "\n",
    "        # Print each row in the CSV file.\n",
    "    for row in file_reader:\n",
    "        print(row)"
   ]
  },
  {
   "cell_type": "code",
   "execution_count": null,
   "metadata": {},
   "outputs": [],
   "source": [
    "with open(election_file) as election_data:\n",
    "\n",
    "     # To do: rean and perform analysis.\n",
    "     #Read the file object with the reader function.\n",
    "     file_reader = csv.reader(election_data)\n",
    "\n",
    "     for row in file_reader:\n",
    "          print(row)\n",
    "\n",
    "\n",
    "import csv\n",
    "import os\n",
    "\n",
    "# Assign a variable for the file to load and the path.\n",
    "election_file = 'c:\\\\Users\\\\Blaine\\\\Documents\\\\College\\\\Bootcamp\\\\Election_Analysis\\\\Resources\\\\election_results.csv'\n",
    "election_data_save = 'c:\\\\Users\\\\Blaine\\\\Documents\\\\College\\\\Bootcamp\\\\Election_Analysis\\\\Resources\\\\election_analysis.txt'\n",
    "\n",
    "# Open the election results and read the file.\n",
    "with open(election_file, newline='') as election_data:\n",
    "\n",
    "     # To do: rean and perform analysis.\n",
    "     #Read the file object with the reader function.\n",
    "     file_reader = csv.reader(election_data, delimiter=' ', quotechar='|')\n",
    "\n",
    "     for row in file_reader:\n",
    "          print(', '.join(row))"
   ]
  }
 ],
 "metadata": {
  "interpreter": {
   "hash": "6f7c4d44365b28014734406e4d617c1e1f76ea196def854c7b951a230f6e24f1"
  },
  "kernelspec": {
   "display_name": "Python 3.9.7 64-bit",
   "language": "python",
   "name": "python3"
  },
  "language_info": {
   "codemirror_mode": {
    "name": "ipython",
    "version": 3
   },
   "file_extension": ".py",
   "mimetype": "text/x-python",
   "name": "python",
   "nbconvert_exporter": "python",
   "pygments_lexer": "ipython3",
   "version": "3.9.7"
  },
  "orig_nbformat": 4
 },
 "nbformat": 4,
 "nbformat_minor": 2
}
